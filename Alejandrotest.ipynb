{
 "cells": [
  {
   "cell_type": "code",
   "execution_count": 1,
   "id": "32e78af2-b937-496c-a68d-31ab10eb26da",
   "metadata": {},
   "outputs": [],
   "source": [
    "import CodeBase.Alejandro as al"
   ]
  },
  {
   "cell_type": "code",
   "execution_count": 3,
   "id": "c5bd83c8-5acc-40bc-aadc-660d2d6f05b8",
   "metadata": {},
   "outputs": [
    {
     "name": "stdout",
     "output_type": "stream",
     "text": [
      "[23.33, 43.33, 60.0, 83.33, 100.0]\n"
     ]
    }
   ],
   "source": [
    "frelativa = [23.33, 20, 16.67, 23.33, 16.67]\n",
    "facum= al.facumulada_frs(frelativa)\n",
    "print(facum)"
   ]
  }
 ],
 "metadata": {
  "kernelspec": {
   "display_name": "Python 3 (ipykernel)",
   "language": "python",
   "name": "python3"
  },
  "language_info": {
   "codemirror_mode": {
    "name": "ipython",
    "version": 3
   },
   "file_extension": ".py",
   "mimetype": "text/x-python",
   "name": "python",
   "nbconvert_exporter": "python",
   "pygments_lexer": "ipython3",
   "version": "3.11.4"
  }
 },
 "nbformat": 4,
 "nbformat_minor": 5
}

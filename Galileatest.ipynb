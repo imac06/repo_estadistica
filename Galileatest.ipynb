{
 "cells": [
  {
   "cell_type": "code",
   "execution_count": 2,
   "id": "f6ef9f38-4d22-4a3d-b632-5ec47e5b989e",
   "metadata": {},
   "outputs": [
    {
     "name": "stdout",
     "output_type": "stream",
     "text": [
      "[16.666666666666664, 20.0, 23.333333333333332, 23.333333333333332, 16.666666666666664]\n"
     ]
    }
   ],
   "source": [
    "import CodeBase.Galilea as gal\n",
    "fre = gal.frecuencia_relativa(clases_sorted, fabs_sorted)\n",
    "print(fre)"
   ]
  },
  {
   "cell_type": "code",
   "execution_count": null,
   "id": "b7b0c095-4331-4df7-a6ab-8478a8c8717b",
   "metadata": {},
   "outputs": [],
   "source": []
  }
 ],
 "metadata": {
  "kernelspec": {
   "display_name": "Python 3 (ipykernel)",
   "language": "python",
   "name": "python3"
  },
  "language_info": {
   "codemirror_mode": {
    "name": "ipython",
    "version": 3
   },
   "file_extension": ".py",
   "mimetype": "text/x-python",
   "name": "python",
   "nbconvert_exporter": "python",
   "pygments_lexer": "ipython3",
   "version": "3.11.4"
  }
 },
 "nbformat": 4,
 "nbformat_minor": 5
}

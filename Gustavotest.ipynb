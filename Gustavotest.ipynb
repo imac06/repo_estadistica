{
 "cells": [
  {
   "cell_type": "code",
   "execution_count": 1,
   "id": "e59382d2-8e83-4fc0-bd67-6895d6fba3c0",
   "metadata": {},
   "outputs": [],
   "source": [
    "import CodeBase.Gustavo as gus"
   ]
  },
  {
   "cell_type": "code",
   "execution_count": 3,
   "id": "832ee018-360d-450e-a2ff-c8b858b84131",
   "metadata": {},
   "outputs": [
    {
     "name": "stdout",
     "output_type": "stream",
     "text": [
      "[5, 7, 7, 6, 5]\n"
     ]
    }
   ],
   "source": [
    "clases_originales=[3, 2, 1, 4, 5]\n",
    "clases_sorted=[1, 2, 3, 4, 5]\n",
    "fa_absolutas=[7, 7, 5, 6, 5]\n",
    "sor=gus.sort_clases_fa(clases_originales, clases_sorted, fa_absolutas)\n",
    "print(sor)"
   ]
  }
 ],
 "metadata": {
  "kernelspec": {
   "display_name": "Python 3 (ipykernel)",
   "language": "python",
   "name": "python3"
  },
  "language_info": {
   "codemirror_mode": {
    "name": "ipython",
    "version": 3
   },
   "file_extension": ".py",
   "mimetype": "text/x-python",
   "name": "python",
   "nbconvert_exporter": "python",
   "pygments_lexer": "ipython3",
   "version": "3.11.4"
  }
 },
 "nbformat": 4,
 "nbformat_minor": 5
}

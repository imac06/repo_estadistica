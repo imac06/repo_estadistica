{
 "cells": [
  {
   "cell_type": "code",
   "execution_count": 1,
   "id": "0f1307b4-c072-4d3a-8b61-981aaeecc652",
   "metadata": {},
   "outputs": [],
   "source": [
    "import CodeBase.Bryan as br"
   ]
  },
  {
   "cell_type": "code",
   "execution_count": 2,
   "id": "15fc86a9-b43d-41ce-9f39-08943f255d68",
   "metadata": {},
   "outputs": [
    {
     "name": "stdout",
     "output_type": "stream",
     "text": [
      "[1, 2, 3, 4, 5]\n"
     ]
    }
   ],
   "source": [
    "clases=[3,2,1,4,5]\n",
    "fror=br.ordenar_asc(clases)        \n",
    "print(fror)"
   ]
  }
 ],
 "metadata": {
  "kernelspec": {
   "display_name": "Python 3 (ipykernel)",
   "language": "python",
   "name": "python3"
  },
  "language_info": {
   "codemirror_mode": {
    "name": "ipython",
    "version": 3
   },
   "file_extension": ".py",
   "mimetype": "text/x-python",
   "name": "python",
   "nbconvert_exporter": "python",
   "pygments_lexer": "ipython3",
   "version": "3.11.4"
  }
 },
 "nbformat": 4,
 "nbformat_minor": 5
}

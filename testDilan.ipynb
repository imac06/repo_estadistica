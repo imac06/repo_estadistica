{
 "cells": [
  {
   "cell_type": "code",
   "execution_count": 2,
   "id": "a09175d0-3338-4fc8-9d2e-a324a371e89d",
   "metadata": {},
   "outputs": [],
   "source": [
    "import CodeBase.Dilan as d"
   ]
  },
  {
   "cell_type": "code",
   "execution_count": 4,
   "id": "1d63c503-af21-4e33-97c9-bb16f03c18f6",
   "metadata": {},
   "outputs": [
    {
     "name": "stdout",
     "output_type": "stream",
     "text": [
      "([3, 2, 1, 4, 5], [7, 7, 5, 6, 5])\n"
     ]
    }
   ],
   "source": [
    "datos_entrada = [3,2,1,4,5,3,2,1,4,5,3,2,1,4,5,3,2,1,4,5,3,2,1,4,5,3,2,4,3,2]\n",
    "c = d.frec_abs(datos_entrada)\n",
    "print(c)"
   ]
  },
  {
   "cell_type": "code",
   "execution_count": null,
   "id": "362fc356-ae60-46df-83c3-dc79ac01be6d",
   "metadata": {},
   "outputs": [],
   "source": []
  }
 ],
 "metadata": {
  "kernelspec": {
   "display_name": "Python 3 (ipykernel)",
   "language": "python",
   "name": "python3"
  },
  "language_info": {
   "codemirror_mode": {
    "name": "ipython",
    "version": 3
   },
   "file_extension": ".py",
   "mimetype": "text/x-python",
   "name": "python",
   "nbconvert_exporter": "python",
   "pygments_lexer": "ipython3",
   "version": "3.11.4"
  }
 },
 "nbformat": 4,
 "nbformat_minor": 5
}
